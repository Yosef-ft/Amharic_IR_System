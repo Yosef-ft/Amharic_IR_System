{
 "cells": [
  {
   "cell_type": "markdown",
   "metadata": {},
   "source": [
    "## Importing the extracted data"
   ]
  },
  {
   "cell_type": "code",
   "execution_count": 2,
   "metadata": {},
   "outputs": [
    {
     "data": {
      "text/html": [
       "<div>\n",
       "<style scoped>\n",
       "    .dataframe tbody tr th:only-of-type {\n",
       "        vertical-align: middle;\n",
       "    }\n",
       "\n",
       "    .dataframe tbody tr th {\n",
       "        vertical-align: top;\n",
       "    }\n",
       "\n",
       "    .dataframe thead th {\n",
       "        text-align: right;\n",
       "    }\n",
       "</style>\n",
       "<table border=\"1\" class=\"dataframe\">\n",
       "  <thead>\n",
       "    <tr style=\"text-align: right;\">\n",
       "      <th></th>\n",
       "      <th>words</th>\n",
       "      <th>frequency</th>\n",
       "      <th>Rank</th>\n",
       "      <th>Constant c</th>\n",
       "    </tr>\n",
       "  </thead>\n",
       "  <tbody>\n",
       "    <tr>\n",
       "      <th>0</th>\n",
       "      <td>ነው</td>\n",
       "      <td>38534</td>\n",
       "      <td>1</td>\n",
       "      <td>0.010880</td>\n",
       "    </tr>\n",
       "    <tr>\n",
       "      <th>1</th>\n",
       "      <td>ላይ</td>\n",
       "      <td>20484</td>\n",
       "      <td>2</td>\n",
       "      <td>0.011568</td>\n",
       "    </tr>\n",
       "    <tr>\n",
       "      <th>2</th>\n",
       "      <td>ወደ</td>\n",
       "      <td>19466</td>\n",
       "      <td>3</td>\n",
       "      <td>0.016489</td>\n",
       "    </tr>\n",
       "    <tr>\n",
       "      <th>3</th>\n",
       "      <td>ነበር</td>\n",
       "      <td>15752</td>\n",
       "      <td>4</td>\n",
       "      <td>0.017791</td>\n",
       "    </tr>\n",
       "    <tr>\n",
       "      <th>4</th>\n",
       "      <td>ጊዜ</td>\n",
       "      <td>14461</td>\n",
       "      <td>5</td>\n",
       "      <td>0.020416</td>\n",
       "    </tr>\n",
       "  </tbody>\n",
       "</table>\n",
       "</div>"
      ],
      "text/plain": [
       "  words  frequency  Rank  Constant c\n",
       "0    ነው      38534     1    0.010880\n",
       "1    ላይ      20484     2    0.011568\n",
       "2    ወደ      19466     3    0.016489\n",
       "3   ነበር      15752     4    0.017791\n",
       "4    ጊዜ      14461     5    0.020416"
      ]
     },
     "execution_count": 2,
     "metadata": {},
     "output_type": "execute_result"
    }
   ],
   "source": [
    "import pandas as pd \n",
    "df = pd.read_csv('for_stat.csv')\n",
    "df.head()"
   ]
  },
  {
   "cell_type": "markdown",
   "metadata": {},
   "source": [
    "### Further analsys shows that words with frequencies of 1 are useless so we drop them"
   ]
  },
  {
   "cell_type": "code",
   "execution_count": 3,
   "metadata": {},
   "outputs": [
    {
     "data": {
      "text/html": [
       "<div>\n",
       "<style scoped>\n",
       "    .dataframe tbody tr th:only-of-type {\n",
       "        vertical-align: middle;\n",
       "    }\n",
       "\n",
       "    .dataframe tbody tr th {\n",
       "        vertical-align: top;\n",
       "    }\n",
       "\n",
       "    .dataframe thead th {\n",
       "        text-align: right;\n",
       "    }\n",
       "</style>\n",
       "<table border=\"1\" class=\"dataframe\">\n",
       "  <thead>\n",
       "    <tr style=\"text-align: right;\">\n",
       "      <th></th>\n",
       "      <th>words</th>\n",
       "      <th>frequency</th>\n",
       "      <th>Rank</th>\n",
       "      <th>Constant c</th>\n",
       "    </tr>\n",
       "  </thead>\n",
       "  <tbody>\n",
       "    <tr>\n",
       "      <th>203030</th>\n",
       "      <td>ቴኔቀ</td>\n",
       "      <td>1</td>\n",
       "      <td>203031</td>\n",
       "      <td>0.057327</td>\n",
       "    </tr>\n",
       "    <tr>\n",
       "      <th>203031</th>\n",
       "      <td>›።ወ+ቲቕቹ</td>\n",
       "      <td>1</td>\n",
       "      <td>203032</td>\n",
       "      <td>0.057327</td>\n",
       "    </tr>\n",
       "    <tr>\n",
       "      <th>203032</th>\n",
       "      <td>ቴቕፊዛ</td>\n",
       "      <td>1</td>\n",
       "      <td>203033</td>\n",
       "      <td>0.057327</td>\n",
       "    </tr>\n",
       "    <tr>\n",
       "      <th>203033</th>\n",
       "      <td>ቴህሁመሠህ</td>\n",
       "      <td>1</td>\n",
       "      <td>203034</td>\n",
       "      <td>0.057328</td>\n",
       "    </tr>\n",
       "    <tr>\n",
       "      <th>203034</th>\n",
       "      <td>ልሃ”“ሄዛ</td>\n",
       "      <td>1</td>\n",
       "      <td>203035</td>\n",
       "      <td>0.057328</td>\n",
       "    </tr>\n",
       "    <tr>\n",
       "      <th>...</th>\n",
       "      <td>...</td>\n",
       "      <td>...</td>\n",
       "      <td>...</td>\n",
       "      <td>...</td>\n",
       "    </tr>\n",
       "    <tr>\n",
       "      <th>851337</th>\n",
       "      <td>ከብዛሻውኀ</td>\n",
       "      <td>1</td>\n",
       "      <td>851338</td>\n",
       "      <td>0.240380</td>\n",
       "    </tr>\n",
       "    <tr>\n",
       "      <th>851338</th>\n",
       "      <td>ይጉደል</td>\n",
       "      <td>1</td>\n",
       "      <td>851339</td>\n",
       "      <td>0.240380</td>\n",
       "    </tr>\n",
       "    <tr>\n",
       "      <th>851339</th>\n",
       "      <td>ፃናጧለውኀ</td>\n",
       "      <td>1</td>\n",
       "      <td>851340</td>\n",
       "      <td>0.240380</td>\n",
       "    </tr>\n",
       "    <tr>\n",
       "      <th>851340</th>\n",
       "      <td>ናጧያ2ስተጋቡና</td>\n",
       "      <td>1</td>\n",
       "      <td>851341</td>\n",
       "      <td>0.240381</td>\n",
       "    </tr>\n",
       "    <tr>\n",
       "      <th>851341</th>\n",
       "      <td>ፊ፳8፤በ</td>\n",
       "      <td>1</td>\n",
       "      <td>851342</td>\n",
       "      <td>0.240381</td>\n",
       "    </tr>\n",
       "  </tbody>\n",
       "</table>\n",
       "<p>648312 rows × 4 columns</p>\n",
       "</div>"
      ],
      "text/plain": [
       "            words  frequency    Rank  Constant c\n",
       "203030        ቴኔቀ          1  203031    0.057327\n",
       "203031    ›።ወ+ቲቕቹ          1  203032    0.057327\n",
       "203032       ቴቕፊዛ          1  203033    0.057327\n",
       "203033     ቴህሁመሠህ          1  203034    0.057328\n",
       "203034     ልሃ”“ሄዛ          1  203035    0.057328\n",
       "...           ...        ...     ...         ...\n",
       "851337     ከብዛሻውኀ          1  851338    0.240380\n",
       "851338       ይጉደል          1  851339    0.240380\n",
       "851339     ፃናጧለውኀ          1  851340    0.240380\n",
       "851340  ናጧያ2ስተጋቡና          1  851341    0.240381\n",
       "851341      ፊ፳8፤በ          1  851342    0.240381\n",
       "\n",
       "[648312 rows x 4 columns]"
      ]
     },
     "execution_count": 3,
     "metadata": {},
     "output_type": "execute_result"
    }
   ],
   "source": [
    "df[df['frequency']==1]"
   ]
  },
  {
   "cell_type": "code",
   "execution_count": 4,
   "metadata": {},
   "outputs": [],
   "source": [
    "df = df[df['frequency'] != 1]"
   ]
  },
  {
   "cell_type": "markdown",
   "metadata": {},
   "source": [
    "## why we need Normalization"
   ]
  },
  {
   "cell_type": "code",
   "execution_count": 5,
   "metadata": {},
   "outputs": [
    {
     "data": {
      "text/html": [
       "<div>\n",
       "<style scoped>\n",
       "    .dataframe tbody tr th:only-of-type {\n",
       "        vertical-align: middle;\n",
       "    }\n",
       "\n",
       "    .dataframe tbody tr th {\n",
       "        vertical-align: top;\n",
       "    }\n",
       "\n",
       "    .dataframe thead th {\n",
       "        text-align: right;\n",
       "    }\n",
       "</style>\n",
       "<table border=\"1\" class=\"dataframe\">\n",
       "  <thead>\n",
       "    <tr style=\"text-align: right;\">\n",
       "      <th></th>\n",
       "      <th>words</th>\n",
       "      <th>frequency</th>\n",
       "      <th>Rank</th>\n",
       "      <th>Constant c</th>\n",
       "    </tr>\n",
       "  </thead>\n",
       "  <tbody>\n",
       "    <tr>\n",
       "      <th>0</th>\n",
       "      <td>ነው</td>\n",
       "      <td>38534</td>\n",
       "      <td>1</td>\n",
       "      <td>0.010880</td>\n",
       "    </tr>\n",
       "    <tr>\n",
       "      <th>7</th>\n",
       "      <td>ውስጥ</td>\n",
       "      <td>12289</td>\n",
       "      <td>8</td>\n",
       "      <td>0.027759</td>\n",
       "    </tr>\n",
       "    <tr>\n",
       "      <th>11</th>\n",
       "      <td>ሰው</td>\n",
       "      <td>9261</td>\n",
       "      <td>12</td>\n",
       "      <td>0.031379</td>\n",
       "    </tr>\n",
       "    <tr>\n",
       "      <th>30</th>\n",
       "      <td>ናቸው</td>\n",
       "      <td>4765</td>\n",
       "      <td>31</td>\n",
       "      <td>0.041708</td>\n",
       "    </tr>\n",
       "    <tr>\n",
       "      <th>43</th>\n",
       "      <td>ያለው</td>\n",
       "      <td>3263</td>\n",
       "      <td>44</td>\n",
       "      <td>0.040538</td>\n",
       "    </tr>\n",
       "  </tbody>\n",
       "</table>\n",
       "</div>"
      ],
      "text/plain": [
       "   words  frequency  Rank  Constant c\n",
       "0     ነው      38534     1    0.010880\n",
       "7    ውስጥ      12289     8    0.027759\n",
       "11    ሰው       9261    12    0.031379\n",
       "30   ናቸው       4765    31    0.041708\n",
       "43   ያለው       3263    44    0.040538"
      ]
     },
     "execution_count": 5,
     "metadata": {},
     "output_type": "execute_result"
    }
   ],
   "source": [
    "df.loc[df['words'].str.contains('ው')].head()"
   ]
  },
  {
   "cell_type": "code",
   "execution_count": 6,
   "metadata": {},
   "outputs": [
    {
     "data": {
      "text/html": [
       "<div>\n",
       "<style scoped>\n",
       "    .dataframe tbody tr th:only-of-type {\n",
       "        vertical-align: middle;\n",
       "    }\n",
       "\n",
       "    .dataframe tbody tr th {\n",
       "        vertical-align: top;\n",
       "    }\n",
       "\n",
       "    .dataframe thead th {\n",
       "        text-align: right;\n",
       "    }\n",
       "</style>\n",
       "<table border=\"1\" class=\"dataframe\">\n",
       "  <thead>\n",
       "    <tr style=\"text-align: right;\">\n",
       "      <th></th>\n",
       "      <th>words</th>\n",
       "      <th>frequency</th>\n",
       "      <th>Rank</th>\n",
       "      <th>Constant c</th>\n",
       "    </tr>\n",
       "  </thead>\n",
       "  <tbody>\n",
       "    <tr>\n",
       "      <th>1971</th>\n",
       "      <td>ዉ</td>\n",
       "      <td>172</td>\n",
       "      <td>1972</td>\n",
       "      <td>0.095770</td>\n",
       "    </tr>\n",
       "    <tr>\n",
       "      <th>3113</th>\n",
       "      <td>ነዉ</td>\n",
       "      <td>113</td>\n",
       "      <td>3114</td>\n",
       "      <td>0.099356</td>\n",
       "    </tr>\n",
       "    <tr>\n",
       "      <th>8145</th>\n",
       "      <td>ዉሃ</td>\n",
       "      <td>44</td>\n",
       "      <td>8146</td>\n",
       "      <td>0.101203</td>\n",
       "    </tr>\n",
       "    <tr>\n",
       "      <th>9826</th>\n",
       "      <td>ተዉ</td>\n",
       "      <td>36</td>\n",
       "      <td>9827</td>\n",
       "      <td>0.099889</td>\n",
       "    </tr>\n",
       "    <tr>\n",
       "      <th>10729</th>\n",
       "      <td>ሰዉ</td>\n",
       "      <td>33</td>\n",
       "      <td>10730</td>\n",
       "      <td>0.099979</td>\n",
       "    </tr>\n",
       "  </tbody>\n",
       "</table>\n",
       "</div>"
      ],
      "text/plain": [
       "      words  frequency   Rank  Constant c\n",
       "1971      ዉ        172   1972    0.095770\n",
       "3113     ነዉ        113   3114    0.099356\n",
       "8145     ዉሃ         44   8146    0.101203\n",
       "9826     ተዉ         36   9827    0.099889\n",
       "10729    ሰዉ         33  10730    0.099979"
      ]
     },
     "execution_count": 6,
     "metadata": {},
     "output_type": "execute_result"
    }
   ],
   "source": [
    "df.loc[df['words'].str.contains('ዉ')].head()"
   ]
  },
  {
   "cell_type": "markdown",
   "metadata": {},
   "source": [
    "### As we can see form  the above `ነዉ` and `ነው` are expressing the same word but using different forms to write. So we need to normalize it."
   ]
  },
  {
   "cell_type": "markdown",
   "metadata": {},
   "source": [
    "## Creating a dictionary to Normalize the text"
   ]
  },
  {
   "cell_type": "code",
   "execution_count": 7,
   "metadata": {},
   "outputs": [],
   "source": [
    "dict1 = {\n",
    "    \"ሐ\": \"ሀ\",\n",
    "    \"ሑ\": \"ሁ\",\n",
    "    \"ሒ\": \"ሂ\",\n",
    "    \"ሓ\": \"ሃ\",\n",
    "    \"ሔ\": \"ሄ\",\n",
    "    \"ሕ\": \"ህ\",\n",
    "    \"ሖ\": \"ሆ\",\n",
    "    \"ኀ\": \"ሀ\",\n",
    "    \"ኁ\": \"ሁ\",\n",
    "    \"ኂ\": \"ሂ\",\n",
    "    \"ኃ\": \"ሃ\",\n",
    "    \"ኄ\": \"ሄ\",\n",
    "    \"ኅ\": \"ህ\",\n",
    "    \"ኆ\": \"ሆ\"\n",
    "}\n",
    "\n",
    "dict2 = {\n",
    "    \"ሠ\": \"ሰ\",\n",
    "    \"ሡ\": \"ሱ\",\n",
    "    \"ሢ\": \"ሲ\",\n",
    "    \"ሣ\": \"ሳ\",\n",
    "    \"ሤ\": \"ሴ\",\n",
    "    \"ሥ\": \"ስ\",\n",
    "    \"ሦ\": \"ሶ\",\n",
    "    \"ሧ\": \"ሷ\"\n",
    "}\n",
    "\n",
    "dict3 = {\n",
    "    \"ዐ\": \"አ\",\n",
    "    \"ዑ\": \"ኡ\",\n",
    "    \"ዒ\": \"ኢ\",\n",
    "    \"ዓ\": \"ኣ\",\n",
    "    \"ዔ\": \"ኤ\",\n",
    "    \"ዕ\": \"እ\",\n",
    "    \"ዖ\": \"ኦ\"\n",
    "}\n",
    "\n",
    "dict4 = {\n",
    "    \"ጸ\": \"ፀ\",\n",
    "    \"ጹ\": \"ፁ\",\n",
    "    \"ጺ\": \"ፂ\",\n",
    "    \"ጻ\": \"ፃ\",\n",
    "    \"ጼ\": \"ፄ\",\n",
    "    \"ጽ\": \"ፅ\",\n",
    "    \"ጾ\": \"ፆ\"\n",
    "}\n",
    "\n",
    "dict5 = {\n",
    "    'ዉ' : 'ው'\n",
    "}\n",
    "\n",
    "# Merge the dictionaries\n",
    "merged_dict = {}\n",
    "merged_dict.update(dict1)\n",
    "merged_dict.update(dict2)\n",
    "merged_dict.update(dict3)\n",
    "merged_dict.update(dict4)\n",
    "merged_dict.update(dict5)\n"
   ]
  },
  {
   "cell_type": "markdown",
   "metadata": {},
   "source": [
    "## Normalization"
   ]
  },
  {
   "cell_type": "code",
   "execution_count": 8,
   "metadata": {},
   "outputs": [
    {
     "data": {
      "text/plain": [
       "(203030, 4)"
      ]
     },
     "execution_count": 8,
     "metadata": {},
     "output_type": "execute_result"
    }
   ],
   "source": [
    "df.shape"
   ]
  },
  {
   "cell_type": "markdown",
   "metadata": {},
   "source": [
    "#### Notice how the two words will be the same after normalization"
   ]
  },
  {
   "cell_type": "code",
   "execution_count": 9,
   "metadata": {},
   "outputs": [
    {
     "data": {
      "text/html": [
       "<div>\n",
       "<style scoped>\n",
       "    .dataframe tbody tr th:only-of-type {\n",
       "        vertical-align: middle;\n",
       "    }\n",
       "\n",
       "    .dataframe tbody tr th {\n",
       "        vertical-align: top;\n",
       "    }\n",
       "\n",
       "    .dataframe thead th {\n",
       "        text-align: right;\n",
       "    }\n",
       "</style>\n",
       "<table border=\"1\" class=\"dataframe\">\n",
       "  <thead>\n",
       "    <tr style=\"text-align: right;\">\n",
       "      <th></th>\n",
       "      <th>words</th>\n",
       "      <th>frequency</th>\n",
       "      <th>Rank</th>\n",
       "      <th>Constant c</th>\n",
       "    </tr>\n",
       "  </thead>\n",
       "  <tbody>\n",
       "    <tr>\n",
       "      <th>0</th>\n",
       "      <td>ነው</td>\n",
       "      <td>38534</td>\n",
       "      <td>1</td>\n",
       "      <td>0.01088</td>\n",
       "    </tr>\n",
       "  </tbody>\n",
       "</table>\n",
       "</div>"
      ],
      "text/plain": [
       "  words  frequency  Rank  Constant c\n",
       "0    ነው      38534     1     0.01088"
      ]
     },
     "execution_count": 9,
     "metadata": {},
     "output_type": "execute_result"
    }
   ],
   "source": [
    "df.loc[df['words']==('ነው')]"
   ]
  },
  {
   "cell_type": "code",
   "execution_count": 10,
   "metadata": {},
   "outputs": [
    {
     "data": {
      "text/html": [
       "<div>\n",
       "<style scoped>\n",
       "    .dataframe tbody tr th:only-of-type {\n",
       "        vertical-align: middle;\n",
       "    }\n",
       "\n",
       "    .dataframe tbody tr th {\n",
       "        vertical-align: top;\n",
       "    }\n",
       "\n",
       "    .dataframe thead th {\n",
       "        text-align: right;\n",
       "    }\n",
       "</style>\n",
       "<table border=\"1\" class=\"dataframe\">\n",
       "  <thead>\n",
       "    <tr style=\"text-align: right;\">\n",
       "      <th></th>\n",
       "      <th>words</th>\n",
       "      <th>frequency</th>\n",
       "      <th>Rank</th>\n",
       "      <th>Constant c</th>\n",
       "    </tr>\n",
       "  </thead>\n",
       "  <tbody>\n",
       "    <tr>\n",
       "      <th>3113</th>\n",
       "      <td>ነዉ</td>\n",
       "      <td>113</td>\n",
       "      <td>3114</td>\n",
       "      <td>0.099356</td>\n",
       "    </tr>\n",
       "  </tbody>\n",
       "</table>\n",
       "</div>"
      ],
      "text/plain": [
       "     words  frequency  Rank  Constant c\n",
       "3113    ነዉ        113  3114    0.099356"
      ]
     },
     "execution_count": 10,
     "metadata": {},
     "output_type": "execute_result"
    }
   ],
   "source": [
    "df.loc[df['words']==('ነዉ')]"
   ]
  },
  {
   "cell_type": "markdown",
   "metadata": {},
   "source": [
    "#### We remove other columns. We will only use columns words and frequency because the others will be altered"
   ]
  },
  {
   "cell_type": "code",
   "execution_count": 11,
   "metadata": {},
   "outputs": [],
   "source": [
    "col = ['words', 'frequency']\n",
    "df_to_Normalize = df[col].copy()"
   ]
  },
  {
   "cell_type": "markdown",
   "metadata": {},
   "source": [
    "#### As you can see the number of columns changed from 203030 to 197121 after normalization"
   ]
  },
  {
   "cell_type": "code",
   "execution_count": 12,
   "metadata": {},
   "outputs": [
    {
     "data": {
      "text/plain": [
       "(197121, 2)"
      ]
     },
     "execution_count": 12,
     "metadata": {},
     "output_type": "execute_result"
    }
   ],
   "source": [
    "def replace_chars(word):\n",
    "    for char, value in merged_dict.items():\n",
    "        word = word.replace(char, value)\n",
    "    return word\n",
    "\n",
    "df['words'] = df['words'].apply(lambda x: replace_chars(x))\n",
    "\n",
    "\n",
    "df_Normalize = df.groupby('words')['frequency'].sum().reset_index()\n",
    "df_Normalize.shape"
   ]
  },
  {
   "cell_type": "markdown",
   "metadata": {},
   "source": [
    "#### Notice how the frequence is the addition of the two frequences of `ነዉ` and `ነው`"
   ]
  },
  {
   "cell_type": "code",
   "execution_count": 13,
   "metadata": {},
   "outputs": [
    {
     "data": {
      "text/html": [
       "<div>\n",
       "<style scoped>\n",
       "    .dataframe tbody tr th:only-of-type {\n",
       "        vertical-align: middle;\n",
       "    }\n",
       "\n",
       "    .dataframe tbody tr th {\n",
       "        vertical-align: top;\n",
       "    }\n",
       "\n",
       "    .dataframe thead th {\n",
       "        text-align: right;\n",
       "    }\n",
       "</style>\n",
       "<table border=\"1\" class=\"dataframe\">\n",
       "  <thead>\n",
       "    <tr style=\"text-align: right;\">\n",
       "      <th></th>\n",
       "      <th>words</th>\n",
       "      <th>frequency</th>\n",
       "    </tr>\n",
       "  </thead>\n",
       "  <tbody>\n",
       "    <tr>\n",
       "      <th>86821</th>\n",
       "      <td>ነው</td>\n",
       "      <td>38647</td>\n",
       "    </tr>\n",
       "  </tbody>\n",
       "</table>\n",
       "</div>"
      ],
      "text/plain": [
       "      words  frequency\n",
       "86821    ነው      38647"
      ]
     },
     "execution_count": 13,
     "metadata": {},
     "output_type": "execute_result"
    }
   ],
   "source": [
    "df_Normalize.loc[df_Normalize['words']==('ነው')]"
   ]
  },
  {
   "cell_type": "markdown",
   "metadata": {},
   "source": [
    "#### Now we re-calculate the rank and constant c"
   ]
  },
  {
   "cell_type": "code",
   "execution_count": 14,
   "metadata": {},
   "outputs": [],
   "source": [
    "df_Normalize.sort_values(by = 'frequency', ascending = False, inplace = True)"
   ]
  },
  {
   "cell_type": "code",
   "execution_count": 15,
   "metadata": {},
   "outputs": [],
   "source": [
    "rank = list(range(1, len(df_Normalize) + 1))\n",
    "df_Normalize['Rank']= rank"
   ]
  },
  {
   "cell_type": "code",
   "execution_count": 16,
   "metadata": {},
   "outputs": [
    {
     "data": {
      "text/html": [
       "<div>\n",
       "<style scoped>\n",
       "    .dataframe tbody tr th:only-of-type {\n",
       "        vertical-align: middle;\n",
       "    }\n",
       "\n",
       "    .dataframe tbody tr th {\n",
       "        vertical-align: top;\n",
       "    }\n",
       "\n",
       "    .dataframe thead th {\n",
       "        text-align: right;\n",
       "    }\n",
       "</style>\n",
       "<table border=\"1\" class=\"dataframe\">\n",
       "  <thead>\n",
       "    <tr style=\"text-align: right;\">\n",
       "      <th></th>\n",
       "      <th>words</th>\n",
       "      <th>frequency</th>\n",
       "      <th>Rank</th>\n",
       "      <th>Constant c</th>\n",
       "    </tr>\n",
       "  </thead>\n",
       "  <tbody>\n",
       "    <tr>\n",
       "      <th>86821</th>\n",
       "      <td>ነው</td>\n",
       "      <td>38647</td>\n",
       "      <td>1</td>\n",
       "      <td>0.013357</td>\n",
       "    </tr>\n",
       "    <tr>\n",
       "      <th>22580</th>\n",
       "      <td>ላይ</td>\n",
       "      <td>20484</td>\n",
       "      <td>2</td>\n",
       "      <td>0.014159</td>\n",
       "    </tr>\n",
       "    <tr>\n",
       "      <th>137128</th>\n",
       "      <td>ወደ</td>\n",
       "      <td>19466</td>\n",
       "      <td>3</td>\n",
       "      <td>0.020184</td>\n",
       "    </tr>\n",
       "    <tr>\n",
       "      <th>86469</th>\n",
       "      <td>ነበር</td>\n",
       "      <td>15752</td>\n",
       "      <td>4</td>\n",
       "      <td>0.021777</td>\n",
       "    </tr>\n",
       "    <tr>\n",
       "      <th>179927</th>\n",
       "      <td>ጊዜ</td>\n",
       "      <td>14461</td>\n",
       "      <td>5</td>\n",
       "      <td>0.024990</td>\n",
       "    </tr>\n",
       "  </tbody>\n",
       "</table>\n",
       "</div>"
      ],
      "text/plain": [
       "       words  frequency  Rank  Constant c\n",
       "86821     ነው      38647     1    0.013357\n",
       "22580     ላይ      20484     2    0.014159\n",
       "137128    ወደ      19466     3    0.020184\n",
       "86469    ነበር      15752     4    0.021777\n",
       "179927    ጊዜ      14461     5    0.024990"
      ]
     },
     "execution_count": 16,
     "metadata": {},
     "output_type": "execute_result"
    }
   ],
   "source": [
    "df_Normalize['Constant c'] =(df_Normalize.frequency / (df_Normalize.frequency.sum())) * df_Normalize.Rank\n",
    "df_Normalize.head()"
   ]
  },
  {
   "cell_type": "markdown",
   "metadata": {},
   "source": [
    "### We will save the normalized data in csv format"
   ]
  },
  {
   "cell_type": "code",
   "execution_count": 17,
   "metadata": {},
   "outputs": [],
   "source": [
    "df_Normalize.to_csv('Normalized.csv')"
   ]
  },
  {
   "cell_type": "code",
   "execution_count": 18,
   "metadata": {},
   "outputs": [],
   "source": [
    "index = df_Normalize[15:9000]"
   ]
  },
  {
   "cell_type": "markdown",
   "metadata": {},
   "source": [
    "### We will save the normalized index in csv format"
   ]
  },
  {
   "cell_type": "code",
   "execution_count": 20,
   "metadata": {},
   "outputs": [],
   "source": [
    "index.to_csv('Normalized_index.csv')\n"
   ]
  }
 ],
 "metadata": {
  "kernelspec": {
   "display_name": "base",
   "language": "python",
   "name": "python3"
  },
  "language_info": {
   "codemirror_mode": {
    "name": "ipython",
    "version": 3
   },
   "file_extension": ".py",
   "mimetype": "text/x-python",
   "name": "python",
   "nbconvert_exporter": "python",
   "pygments_lexer": "ipython3",
   "version": "3.11.5"
  }
 },
 "nbformat": 4,
 "nbformat_minor": 2
}
