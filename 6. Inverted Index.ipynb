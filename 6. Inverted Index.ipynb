{
 "cells": [
  {
   "cell_type": "markdown",
   "metadata": {},
   "source": [
    "# Indexing "
   ]
  },
  {
   "cell_type": "code",
   "execution_count": 47,
   "metadata": {},
   "outputs": [],
   "source": [
    "Amharic_suffix = ['ቻችን','ቻችሁ','ቻቸው','ቻቸውን','ህ','ሽ','ችን','ችሁ','ቸው','ች','ቼ','ቿ', 'ችው', 'ቹ', 'ን']\n",
    "Amharic_prefix = ['የ', 'በ', 'ለ', 'ከ']\n",
    "def stemmer(word):\n",
    "    for suffix in Amharic_suffix:\n",
    "        word = word.removesuffix(suffix)\n",
    "    for prefix in Amharic_prefix:\n",
    "        word = word.removeprefix(prefix)\n",
    "    return word"
   ]
  },
  {
   "cell_type": "markdown",
   "metadata": {},
   "source": [
    "## The below code reads the extracted text"
   ]
  },
  {
   "cell_type": "code",
   "execution_count": 48,
   "metadata": {},
   "outputs": [],
   "source": [
    "import os\n",
    "import spacy \n",
    "from spacy.lang.am import Amharic\n",
    "from collections import Counter\n",
    "import pandas as pd\n",
    "\n",
    "nlp = Amharic()\n",
    "nlp.max_length = 20000000\n",
    "\n",
    "data_path = r'C:\\Users\\user\\Documents\\Data_science\\IR real\\Demo_data\\Updated_Demo'\n",
    "\n",
    "books = os.listdir(data_path)\n",
    "\n",
    "\n",
    "token_file = {}\n",
    "\n",
    "for book in books:\n",
    "    with open(os.path.join(data_path, book), 'r', encoding='utf-8') as file:\n",
    "        for line in file:\n",
    "            tokens = []\n",
    "            line = line.strip()\n",
    "            doc = nlp(line)\n",
    "            tokens.append([token.text for token in doc if not token.is_punct])\n",
    "            for token in tokens:\n",
    "                for word in token:\n",
    "                    if not word.isnumeric() and not word.isspace():\n",
    "                        if word not in token_file:\n",
    "                            token_file[word] = []\n",
    "                        token_file[word].append(book)"
   ]
  },
  {
   "cell_type": "markdown",
   "metadata": {},
   "source": [
    "## This is a way to represent the directory path of the books using numbers."
   ]
  },
  {
   "cell_type": "code",
   "execution_count": 49,
   "metadata": {},
   "outputs": [],
   "source": [
    "data_path = r'C:\\Users\\user\\Documents\\Data_science\\IR real\\Demo_data\\Updated_Demo'\n",
    "\n",
    "Doc_dict = {}\n",
    "books = os.listdir(data_path)\n",
    "index = 0\n",
    "for book in books:\n",
    "    Doc_dict[book] = index\n",
    "    index += 1"
   ]
  },
  {
   "cell_type": "markdown",
   "metadata": {},
   "source": [
    "## This counts the number of document frequency for each word"
   ]
  },
  {
   "cell_type": "code",
   "execution_count": 50,
   "metadata": {},
   "outputs": [
    {
     "data": {
      "text/html": [
       "<div>\n",
       "<style scoped>\n",
       "    .dataframe tbody tr th:only-of-type {\n",
       "        vertical-align: middle;\n",
       "    }\n",
       "\n",
       "    .dataframe tbody tr th {\n",
       "        vertical-align: top;\n",
       "    }\n",
       "\n",
       "    .dataframe thead th {\n",
       "        text-align: right;\n",
       "    }\n",
       "</style>\n",
       "<table border=\"1\" class=\"dataframe\">\n",
       "  <thead>\n",
       "    <tr style=\"text-align: right;\">\n",
       "      <th></th>\n",
       "      <th>Term</th>\n",
       "      <th>Doc</th>\n",
       "    </tr>\n",
       "  </thead>\n",
       "  <tbody>\n",
       "    <tr>\n",
       "      <th>170</th>\n",
       "      <td>ጠቢብ</td>\n",
       "      <td>[0, 0, 0, 0, 0, 0, 0, 0, 0, 0, 0, 0, 0, 0, 0, ...</td>\n",
       "    </tr>\n",
       "    <tr>\n",
       "      <th>171</th>\n",
       "      <td>እነዚህን</td>\n",
       "      <td>[0, 1, 1, 1, 1, 1, 1, 2, 2, 2, 2, 2, 2, 2, 2, ...</td>\n",
       "    </tr>\n",
       "    <tr>\n",
       "      <th>172</th>\n",
       "      <td>ከመስማት</td>\n",
       "      <td>[0, 0, 3, 3, 4, 8, 12, 15, 15, 22, 24, 31, 50,...</td>\n",
       "    </tr>\n",
       "    <tr>\n",
       "      <th>173</th>\n",
       "      <td>ጥበብን</td>\n",
       "      <td>[0, 0, 0, 0, 0, 0, 0, 0, 0, 0, 0, 0, 0, 0, 0, ...</td>\n",
       "    </tr>\n",
       "    <tr>\n",
       "      <th>174</th>\n",
       "      <td>ይጨምራል</td>\n",
       "      <td>[0, 0, 0, 12, 13, 22, 22, 27, 30, 39, 43, 48, ...</td>\n",
       "    </tr>\n",
       "  </tbody>\n",
       "</table>\n",
       "</div>"
      ],
      "text/plain": [
       "      Term                                                Doc\n",
       "170    ጠቢብ  [0, 0, 0, 0, 0, 0, 0, 0, 0, 0, 0, 0, 0, 0, 0, ...\n",
       "171  እነዚህን  [0, 1, 1, 1, 1, 1, 1, 2, 2, 2, 2, 2, 2, 2, 2, ...\n",
       "172  ከመስማት  [0, 0, 3, 3, 4, 8, 12, 15, 15, 22, 24, 31, 50,...\n",
       "173   ጥበብን  [0, 0, 0, 0, 0, 0, 0, 0, 0, 0, 0, 0, 0, 0, 0, ...\n",
       "174  ይጨምራል  [0, 0, 0, 12, 13, 22, 22, 27, 30, 39, 43, 48, ..."
      ]
     },
     "execution_count": 50,
     "metadata": {},
     "output_type": "execute_result"
    }
   ],
   "source": [
    "words = token_file.keys()\n",
    "documents = token_file.values()\n",
    "Doc_index = []\n",
    "for document in documents:\n",
    "    indi_Doc = []\n",
    "    for ind_doc in document:\n",
    "        index = Doc_dict[ind_doc]\n",
    "        indi_Doc.append(index)\n",
    "    Doc_index.append(indi_Doc)\n",
    "Ifile = pd.DataFrame({\"Term\" : words, \"Doc\" : Doc_index})\n",
    "Ifile[170:175]\n"
   ]
  },
  {
   "cell_type": "markdown",
   "metadata": {},
   "source": [
    "### In the below code we will normalize the words. But letter we will show the stemmed/normalized words yields the same result with the unstemmed/un-normalized"
   ]
  },
  {
   "cell_type": "code",
   "execution_count": 51,
   "metadata": {},
   "outputs": [
    {
     "data": {
      "text/html": [
       "<div>\n",
       "<style scoped>\n",
       "    .dataframe tbody tr th:only-of-type {\n",
       "        vertical-align: middle;\n",
       "    }\n",
       "\n",
       "    .dataframe tbody tr th {\n",
       "        vertical-align: top;\n",
       "    }\n",
       "\n",
       "    .dataframe thead th {\n",
       "        text-align: right;\n",
       "    }\n",
       "</style>\n",
       "<table border=\"1\" class=\"dataframe\">\n",
       "  <thead>\n",
       "    <tr style=\"text-align: right;\">\n",
       "      <th></th>\n",
       "      <th>Term</th>\n",
       "      <th>Doc</th>\n",
       "      <th>stemmed</th>\n",
       "    </tr>\n",
       "  </thead>\n",
       "  <tbody>\n",
       "    <tr>\n",
       "      <th>170</th>\n",
       "      <td>ጠቢብ</td>\n",
       "      <td>[0, 0, 0, 0, 0, 0, 0, 0, 0, 0, 0, 0, 0, 0, 0, ...</td>\n",
       "      <td>ጠቢብ</td>\n",
       "    </tr>\n",
       "    <tr>\n",
       "      <th>171</th>\n",
       "      <td>እነዚህን</td>\n",
       "      <td>[0, 1, 1, 1, 1, 1, 1, 2, 2, 2, 2, 2, 2, 2, 2, ...</td>\n",
       "      <td>እነዚህ</td>\n",
       "    </tr>\n",
       "    <tr>\n",
       "      <th>172</th>\n",
       "      <td>ከመስማት</td>\n",
       "      <td>[0, 0, 3, 3, 4, 8, 12, 15, 15, 22, 24, 31, 50,...</td>\n",
       "      <td>መስማት</td>\n",
       "    </tr>\n",
       "    <tr>\n",
       "      <th>173</th>\n",
       "      <td>ጥበብን</td>\n",
       "      <td>[0, 0, 0, 0, 0, 0, 0, 0, 0, 0, 0, 0, 0, 0, 0, ...</td>\n",
       "      <td>ጥበብ</td>\n",
       "    </tr>\n",
       "    <tr>\n",
       "      <th>174</th>\n",
       "      <td>ይጨምራል</td>\n",
       "      <td>[0, 0, 0, 12, 13, 22, 22, 27, 30, 39, 43, 48, ...</td>\n",
       "      <td>ይጨምራል</td>\n",
       "    </tr>\n",
       "  </tbody>\n",
       "</table>\n",
       "</div>"
      ],
      "text/plain": [
       "      Term                                                Doc stemmed\n",
       "170    ጠቢብ  [0, 0, 0, 0, 0, 0, 0, 0, 0, 0, 0, 0, 0, 0, 0, ...     ጠቢብ\n",
       "171  እነዚህን  [0, 1, 1, 1, 1, 1, 1, 2, 2, 2, 2, 2, 2, 2, 2, ...    እነዚህ\n",
       "172  ከመስማት  [0, 0, 3, 3, 4, 8, 12, 15, 15, 22, 24, 31, 50,...    መስማት\n",
       "173   ጥበብን  [0, 0, 0, 0, 0, 0, 0, 0, 0, 0, 0, 0, 0, 0, 0, ...     ጥበብ\n",
       "174  ይጨምራል  [0, 0, 0, 12, 13, 22, 22, 27, 30, 39, 43, 48, ...   ይጨምራል"
      ]
     },
     "execution_count": 51,
     "metadata": {},
     "output_type": "execute_result"
    }
   ],
   "source": [
    "Ifile['stemmed'] = Ifile['Term'].apply(lambda x: stemmer(x))\n",
    "Ifile[170:175]"
   ]
  },
  {
   "cell_type": "markdown",
   "metadata": {},
   "source": [
    "### By using this simple line of code we can cleary classify count the document frequency and term frequency."
   ]
  },
  {
   "cell_type": "code",
   "execution_count": 52,
   "metadata": {},
   "outputs": [
    {
     "data": {
      "text/html": [
       "<div>\n",
       "<style scoped>\n",
       "    .dataframe tbody tr th:only-of-type {\n",
       "        vertical-align: middle;\n",
       "    }\n",
       "\n",
       "    .dataframe tbody tr th {\n",
       "        vertical-align: top;\n",
       "    }\n",
       "\n",
       "    .dataframe thead th {\n",
       "        text-align: right;\n",
       "    }\n",
       "</style>\n",
       "<table border=\"1\" class=\"dataframe\">\n",
       "  <thead>\n",
       "    <tr style=\"text-align: right;\">\n",
       "      <th></th>\n",
       "      <th>Term</th>\n",
       "      <th>Doc</th>\n",
       "      <th>stemmed</th>\n",
       "      <th>CF</th>\n",
       "      <th>DF</th>\n",
       "    </tr>\n",
       "  </thead>\n",
       "  <tbody>\n",
       "    <tr>\n",
       "      <th>170</th>\n",
       "      <td>ጠቢብ</td>\n",
       "      <td>[0, 0, 0, 0, 0, 0, 0, 0, 0, 0, 0, 0, 0, 0, 0, ...</td>\n",
       "      <td>ጠቢብ</td>\n",
       "      <td>45</td>\n",
       "      <td>12</td>\n",
       "    </tr>\n",
       "    <tr>\n",
       "      <th>171</th>\n",
       "      <td>እነዚህን</td>\n",
       "      <td>[0, 1, 1, 1, 1, 1, 1, 2, 2, 2, 2, 2, 2, 2, 2, ...</td>\n",
       "      <td>እነዚህ</td>\n",
       "      <td>602</td>\n",
       "      <td>82</td>\n",
       "    </tr>\n",
       "    <tr>\n",
       "      <th>172</th>\n",
       "      <td>ከመስማት</td>\n",
       "      <td>[0, 0, 3, 3, 4, 8, 12, 15, 15, 22, 24, 31, 50,...</td>\n",
       "      <td>መስማት</td>\n",
       "      <td>27</td>\n",
       "      <td>19</td>\n",
       "    </tr>\n",
       "    <tr>\n",
       "      <th>173</th>\n",
       "      <td>ጥበብን</td>\n",
       "      <td>[0, 0, 0, 0, 0, 0, 0, 0, 0, 0, 0, 0, 0, 0, 0, ...</td>\n",
       "      <td>ጥበብ</td>\n",
       "      <td>72</td>\n",
       "      <td>34</td>\n",
       "    </tr>\n",
       "    <tr>\n",
       "      <th>174</th>\n",
       "      <td>ይጨምራል</td>\n",
       "      <td>[0, 0, 0, 12, 13, 22, 22, 27, 30, 39, 43, 48, ...</td>\n",
       "      <td>ይጨምራል</td>\n",
       "      <td>64</td>\n",
       "      <td>25</td>\n",
       "    </tr>\n",
       "  </tbody>\n",
       "</table>\n",
       "</div>"
      ],
      "text/plain": [
       "      Term                                                Doc stemmed   CF  DF\n",
       "170    ጠቢብ  [0, 0, 0, 0, 0, 0, 0, 0, 0, 0, 0, 0, 0, 0, 0, ...     ጠቢብ   45  12\n",
       "171  እነዚህን  [0, 1, 1, 1, 1, 1, 1, 2, 2, 2, 2, 2, 2, 2, 2, ...    እነዚህ  602  82\n",
       "172  ከመስማት  [0, 0, 3, 3, 4, 8, 12, 15, 15, 22, 24, 31, 50,...    መስማት   27  19\n",
       "173   ጥበብን  [0, 0, 0, 0, 0, 0, 0, 0, 0, 0, 0, 0, 0, 0, 0, ...     ጥበብ   72  34\n",
       "174  ይጨምራል  [0, 0, 0, 12, 13, 22, 22, 27, 30, 39, 43, 48, ...   ይጨምራል   64  25"
      ]
     },
     "execution_count": 52,
     "metadata": {},
     "output_type": "execute_result"
    }
   ],
   "source": [
    "Ifile['CF'] = Ifile['Doc'].apply(len)\n",
    "Ifile['DF'] = Ifile['Doc'].apply(lambda x: len(set(x)))\n",
    "Ifile[170:175]"
   ]
  },
  {
   "cell_type": "code",
   "execution_count": 53,
   "metadata": {},
   "outputs": [
    {
     "data": {
      "text/html": [
       "<div>\n",
       "<style scoped>\n",
       "    .dataframe tbody tr th:only-of-type {\n",
       "        vertical-align: middle;\n",
       "    }\n",
       "\n",
       "    .dataframe tbody tr th {\n",
       "        vertical-align: top;\n",
       "    }\n",
       "\n",
       "    .dataframe thead th {\n",
       "        text-align: right;\n",
       "    }\n",
       "</style>\n",
       "<table border=\"1\" class=\"dataframe\">\n",
       "  <thead>\n",
       "    <tr style=\"text-align: right;\">\n",
       "      <th></th>\n",
       "      <th>Term</th>\n",
       "      <th>Doc</th>\n",
       "      <th>stemmed</th>\n",
       "      <th>CF</th>\n",
       "      <th>DF</th>\n",
       "    </tr>\n",
       "  </thead>\n",
       "  <tbody>\n",
       "    <tr>\n",
       "      <th>170</th>\n",
       "      <td>ጠቢብ</td>\n",
       "      <td>{0, 4, 8, 73, 42, 48, 124, 50, 83, 85, 92, 31}</td>\n",
       "      <td>ጠቢብ</td>\n",
       "      <td>45</td>\n",
       "      <td>12</td>\n",
       "    </tr>\n",
       "    <tr>\n",
       "      <th>171</th>\n",
       "      <td>እነዚህን</td>\n",
       "      <td>{0, 1, 2, 3, 4, 5, 8, 10, 11, 12, 13, 14, 17, ...</td>\n",
       "      <td>እነዚህ</td>\n",
       "      <td>602</td>\n",
       "      <td>82</td>\n",
       "    </tr>\n",
       "    <tr>\n",
       "      <th>172</th>\n",
       "      <td>ከመስማት</td>\n",
       "      <td>{0, 3, 4, 8, 12, 15, 22, 24, 31, 50, 69, 88, 1...</td>\n",
       "      <td>መስማት</td>\n",
       "      <td>27</td>\n",
       "      <td>19</td>\n",
       "    </tr>\n",
       "    <tr>\n",
       "      <th>173</th>\n",
       "      <td>ጥበብን</td>\n",
       "      <td>{0, 3, 4, 8, 13, 15, 16, 17, 19, 22, 30, 31, 4...</td>\n",
       "      <td>ጥበብ</td>\n",
       "      <td>72</td>\n",
       "      <td>34</td>\n",
       "    </tr>\n",
       "    <tr>\n",
       "      <th>174</th>\n",
       "      <td>ይጨምራል</td>\n",
       "      <td>{0, 12, 13, 22, 27, 30, 39, 43, 48, 49, 55, 58...</td>\n",
       "      <td>ይጨምራል</td>\n",
       "      <td>64</td>\n",
       "      <td>25</td>\n",
       "    </tr>\n",
       "  </tbody>\n",
       "</table>\n",
       "</div>"
      ],
      "text/plain": [
       "      Term                                                Doc stemmed   CF  DF\n",
       "170    ጠቢብ     {0, 4, 8, 73, 42, 48, 124, 50, 83, 85, 92, 31}     ጠቢብ   45  12\n",
       "171  እነዚህን  {0, 1, 2, 3, 4, 5, 8, 10, 11, 12, 13, 14, 17, ...    እነዚህ  602  82\n",
       "172  ከመስማት  {0, 3, 4, 8, 12, 15, 22, 24, 31, 50, 69, 88, 1...    መስማት   27  19\n",
       "173   ጥበብን  {0, 3, 4, 8, 13, 15, 16, 17, 19, 22, 30, 31, 4...     ጥበብ   72  34\n",
       "174  ይጨምራል  {0, 12, 13, 22, 27, 30, 39, 43, 48, 49, 55, 58...   ይጨምራል   64  25"
      ]
     },
     "execution_count": 53,
     "metadata": {},
     "output_type": "execute_result"
    }
   ],
   "source": [
    "Ifile['Doc'] = Ifile['Doc'].apply(lambda x: set(x))\n",
    "Ifile[170:175]"
   ]
  }
 ],
 "metadata": {
  "kernelspec": {
   "display_name": "base",
   "language": "python",
   "name": "python3"
  },
  "language_info": {
   "codemirror_mode": {
    "name": "ipython",
    "version": 3
   },
   "file_extension": ".py",
   "mimetype": "text/x-python",
   "name": "python",
   "nbconvert_exporter": "python",
   "pygments_lexer": "ipython3",
   "version": "3.11.5"
  }
 },
 "nbformat": 4,
 "nbformat_minor": 2
}
