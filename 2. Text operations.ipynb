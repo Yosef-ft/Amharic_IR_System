{
 "cells": [
  {
   "cell_type": "markdown",
   "metadata": {},
   "source": [
    "## Performing text operations"
   ]
  },
  {
   "cell_type": "code",
   "execution_count": 1,
   "metadata": {},
   "outputs": [],
   "source": [
    "import os\n",
    "import spacy \n",
    "from spacy.lang.am import Amharic\n",
    "from collections import Counter\n",
    "import pandas as pd\n",
    "\n",
    "nlp = Amharic()\n",
    "nlp.max_length = 20000000\n",
    "\n",
    "data_path = r'C:\\Users\\user\\Documents\\Data_science\\IR real\\Demo_data\\Updated_Demo'\n",
    "\n",
    "books = os.listdir(data_path)\n",
    "\n",
    "tokens = []\n",
    "\n",
    "for book in books:\n",
    "    with open(os.path.join(data_path, book), 'r', encoding='utf-8') as file:\n",
    "        for line in file:\n",
    "            line = line.strip()\n",
    "            doc = nlp(line)\n",
    "            tokens.extend([token.text for token in doc if not token.is_punct])\n",
    "\n",
    "#doc = nlp(sentence)\n",
    "\n",
    "freq_counter = Counter(tokens) #\n",
    "df = pd.DataFrame({\"words\" : freq_counter.keys(), \"frequency\" : freq_counter.values()}).set_index('words')\n",
    "\n",
    "\n"
   ]
  },
  {
   "cell_type": "markdown",
   "metadata": {},
   "source": [
    "## Removing numerical values\n"
   ]
  },
  {
   "cell_type": "code",
   "execution_count": 2,
   "metadata": {},
   "outputs": [
    {
     "data": {
      "text/plain": [
       "17720"
      ]
     },
     "execution_count": 2,
     "metadata": {},
     "output_type": "execute_result"
    }
   ],
   "source": [
    "df = df.reset_index()\n",
    "df['words'].str.isnumeric().sum()"
   ]
  },
  {
   "cell_type": "markdown",
   "metadata": {},
   "source": [
    "### This function removes the number that are found in the string"
   ]
  },
  {
   "cell_type": "code",
   "execution_count": 3,
   "metadata": {},
   "outputs": [
    {
     "data": {
      "text/plain": [
       "0"
      ]
     },
     "execution_count": 3,
     "metadata": {},
     "output_type": "execute_result"
    }
   ],
   "source": [
    "df = df.loc[~df['words'].str.isnumeric()]\n",
    "df['words'].str.isnumeric().sum()"
   ]
  },
  {
   "cell_type": "code",
   "execution_count": 4,
   "metadata": {},
   "outputs": [],
   "source": [
    "df.set_index('words', inplace = True)"
   ]
  },
  {
   "cell_type": "markdown",
   "metadata": {},
   "source": [
    "## Creating frequency and words dataFrame for easier visualization"
   ]
  },
  {
   "cell_type": "code",
   "execution_count": 15,
   "metadata": {},
   "outputs": [
    {
     "data": {
      "text/html": [
       "<div>\n",
       "<style scoped>\n",
       "    .dataframe tbody tr th:only-of-type {\n",
       "        vertical-align: middle;\n",
       "    }\n",
       "\n",
       "    .dataframe tbody tr th {\n",
       "        vertical-align: top;\n",
       "    }\n",
       "\n",
       "    .dataframe thead th {\n",
       "        text-align: right;\n",
       "    }\n",
       "</style>\n",
       "<table border=\"1\" class=\"dataframe\">\n",
       "  <thead>\n",
       "    <tr style=\"text-align: right;\">\n",
       "      <th></th>\n",
       "      <th>frequency</th>\n",
       "      <th>Rank</th>\n",
       "      <th>Constant c</th>\n",
       "    </tr>\n",
       "    <tr>\n",
       "      <th>words</th>\n",
       "      <th></th>\n",
       "      <th></th>\n",
       "      <th></th>\n",
       "    </tr>\n",
       "  </thead>\n",
       "  <tbody>\n",
       "    <tr>\n",
       "      <th>ነው</th>\n",
       "      <td>38534</td>\n",
       "      <td>1</td>\n",
       "      <td>0.010861</td>\n",
       "    </tr>\n",
       "    <tr>\n",
       "      <th>ላይ</th>\n",
       "      <td>20484</td>\n",
       "      <td>2</td>\n",
       "      <td>0.011547</td>\n",
       "    </tr>\n",
       "    <tr>\n",
       "      <th>ወደ</th>\n",
       "      <td>19466</td>\n",
       "      <td>3</td>\n",
       "      <td>0.016459</td>\n",
       "    </tr>\n",
       "    <tr>\n",
       "      <th>ነበር</th>\n",
       "      <td>15752</td>\n",
       "      <td>4</td>\n",
       "      <td>0.017758</td>\n",
       "    </tr>\n",
       "    <tr>\n",
       "      <th>ጊዜ</th>\n",
       "      <td>14461</td>\n",
       "      <td>5</td>\n",
       "      <td>0.020379</td>\n",
       "    </tr>\n",
       "  </tbody>\n",
       "</table>\n",
       "</div>"
      ],
      "text/plain": [
       "       frequency  Rank  Constant c\n",
       "words                             \n",
       "ነው         38534     1    0.010861\n",
       "ላይ         20484     2    0.011547\n",
       "ወደ         19466     3    0.016459\n",
       "ነበር        15752     4    0.017758\n",
       "ጊዜ         14461     5    0.020379"
      ]
     },
     "execution_count": 15,
     "metadata": {},
     "output_type": "execute_result"
    }
   ],
   "source": [
    "df.sort_values(by = 'frequency', ascending = False, inplace = True)\n",
    "df.drop(index = ' ', inplace = True)\n",
    "df.drop(index = '=', inplace = True)\n",
    "df.head()"
   ]
  },
  {
   "cell_type": "markdown",
   "metadata": {},
   "source": [
    "## Creating the Rank"
   ]
  },
  {
   "cell_type": "code",
   "execution_count": 16,
   "metadata": {},
   "outputs": [],
   "source": [
    "rank = list(range(1, len(df) + 1))\n",
    "df['Rank']= rank"
   ]
  },
  {
   "cell_type": "markdown",
   "metadata": {},
   "source": [
    "## Calculating the the normalized constant"
   ]
  },
  {
   "cell_type": "code",
   "execution_count": 17,
   "metadata": {},
   "outputs": [
    {
     "data": {
      "text/html": [
       "<div>\n",
       "<style scoped>\n",
       "    .dataframe tbody tr th:only-of-type {\n",
       "        vertical-align: middle;\n",
       "    }\n",
       "\n",
       "    .dataframe tbody tr th {\n",
       "        vertical-align: top;\n",
       "    }\n",
       "\n",
       "    .dataframe thead th {\n",
       "        text-align: right;\n",
       "    }\n",
       "</style>\n",
       "<table border=\"1\" class=\"dataframe\">\n",
       "  <thead>\n",
       "    <tr style=\"text-align: right;\">\n",
       "      <th></th>\n",
       "      <th>frequency</th>\n",
       "      <th>Rank</th>\n",
       "      <th>Constant c</th>\n",
       "    </tr>\n",
       "    <tr>\n",
       "      <th>words</th>\n",
       "      <th></th>\n",
       "      <th></th>\n",
       "      <th></th>\n",
       "    </tr>\n",
       "  </thead>\n",
       "  <tbody>\n",
       "    <tr>\n",
       "      <th>ነው</th>\n",
       "      <td>38534</td>\n",
       "      <td>1</td>\n",
       "      <td>0.010880</td>\n",
       "    </tr>\n",
       "    <tr>\n",
       "      <th>ላይ</th>\n",
       "      <td>20484</td>\n",
       "      <td>2</td>\n",
       "      <td>0.011568</td>\n",
       "    </tr>\n",
       "    <tr>\n",
       "      <th>ወደ</th>\n",
       "      <td>19466</td>\n",
       "      <td>3</td>\n",
       "      <td>0.016489</td>\n",
       "    </tr>\n",
       "    <tr>\n",
       "      <th>ነበር</th>\n",
       "      <td>15752</td>\n",
       "      <td>4</td>\n",
       "      <td>0.017791</td>\n",
       "    </tr>\n",
       "    <tr>\n",
       "      <th>ጊዜ</th>\n",
       "      <td>14461</td>\n",
       "      <td>5</td>\n",
       "      <td>0.020416</td>\n",
       "    </tr>\n",
       "  </tbody>\n",
       "</table>\n",
       "</div>"
      ],
      "text/plain": [
       "       frequency  Rank  Constant c\n",
       "words                             \n",
       "ነው         38534     1    0.010880\n",
       "ላይ         20484     2    0.011568\n",
       "ወደ         19466     3    0.016489\n",
       "ነበር        15752     4    0.017791\n",
       "ጊዜ         14461     5    0.020416"
      ]
     },
     "execution_count": 17,
     "metadata": {},
     "output_type": "execute_result"
    }
   ],
   "source": [
    "df['Constant c'] =(df.frequency / (df.frequency.sum())) * df.Rank\n",
    "df.head()"
   ]
  },
  {
   "cell_type": "markdown",
   "metadata": {},
   "source": [
    "## Saving to csv format  "
   ]
  },
  {
   "cell_type": "code",
   "execution_count": 18,
   "metadata": {},
   "outputs": [],
   "source": [
    "df.to_csv('for_stat.csv')"
   ]
  },
  {
   "cell_type": "markdown",
   "metadata": {},
   "source": [
    "## These are the total unique number of words\n"
   ]
  },
  {
   "cell_type": "code",
   "execution_count": 19,
   "metadata": {},
   "outputs": [
    {
     "data": {
      "text/plain": [
       "851342"
      ]
     },
     "execution_count": 19,
     "metadata": {},
     "output_type": "execute_result"
    }
   ],
   "source": [
    "df.shape[0]"
   ]
  },
  {
   "cell_type": "markdown",
   "metadata": {},
   "source": [
    "## These are the total number of words\n"
   ]
  },
  {
   "cell_type": "code",
   "execution_count": 20,
   "metadata": {},
   "outputs": [
    {
     "data": {
      "text/plain": [
       "3541639"
      ]
     },
     "execution_count": 20,
     "metadata": {},
     "output_type": "execute_result"
    }
   ],
   "source": [
    "df.frequency.sum()"
   ]
  },
  {
   "cell_type": "markdown",
   "metadata": {},
   "source": [
    "## The top 10 words"
   ]
  },
  {
   "cell_type": "code",
   "execution_count": 21,
   "metadata": {},
   "outputs": [
    {
     "data": {
      "text/html": [
       "<div>\n",
       "<style scoped>\n",
       "    .dataframe tbody tr th:only-of-type {\n",
       "        vertical-align: middle;\n",
       "    }\n",
       "\n",
       "    .dataframe tbody tr th {\n",
       "        vertical-align: top;\n",
       "    }\n",
       "\n",
       "    .dataframe thead th {\n",
       "        text-align: right;\n",
       "    }\n",
       "</style>\n",
       "<table border=\"1\" class=\"dataframe\">\n",
       "  <thead>\n",
       "    <tr style=\"text-align: right;\">\n",
       "      <th></th>\n",
       "      <th>frequency</th>\n",
       "      <th>Rank</th>\n",
       "      <th>Constant c</th>\n",
       "    </tr>\n",
       "    <tr>\n",
       "      <th>words</th>\n",
       "      <th></th>\n",
       "      <th></th>\n",
       "      <th></th>\n",
       "    </tr>\n",
       "  </thead>\n",
       "  <tbody>\n",
       "    <tr>\n",
       "      <th>ነው</th>\n",
       "      <td>38534</td>\n",
       "      <td>1</td>\n",
       "      <td>0.010880</td>\n",
       "    </tr>\n",
       "    <tr>\n",
       "      <th>ላይ</th>\n",
       "      <td>20484</td>\n",
       "      <td>2</td>\n",
       "      <td>0.011568</td>\n",
       "    </tr>\n",
       "    <tr>\n",
       "      <th>ወደ</th>\n",
       "      <td>19466</td>\n",
       "      <td>3</td>\n",
       "      <td>0.016489</td>\n",
       "    </tr>\n",
       "    <tr>\n",
       "      <th>ነበር</th>\n",
       "      <td>15752</td>\n",
       "      <td>4</td>\n",
       "      <td>0.017791</td>\n",
       "    </tr>\n",
       "    <tr>\n",
       "      <th>ጊዜ</th>\n",
       "      <td>14461</td>\n",
       "      <td>5</td>\n",
       "      <td>0.020416</td>\n",
       "    </tr>\n",
       "    <tr>\n",
       "      <th>ግን</th>\n",
       "      <td>13221</td>\n",
       "      <td>6</td>\n",
       "      <td>0.022398</td>\n",
       "    </tr>\n",
       "    <tr>\n",
       "      <th>ነገር</th>\n",
       "      <td>12456</td>\n",
       "      <td>7</td>\n",
       "      <td>0.024619</td>\n",
       "    </tr>\n",
       "    <tr>\n",
       "      <th>ውስጥ</th>\n",
       "      <td>12289</td>\n",
       "      <td>8</td>\n",
       "      <td>0.027759</td>\n",
       "    </tr>\n",
       "    <tr>\n",
       "      <th>ሁሉ</th>\n",
       "      <td>11870</td>\n",
       "      <td>9</td>\n",
       "      <td>0.030164</td>\n",
       "    </tr>\n",
       "    <tr>\n",
       "      <th>እንደ</th>\n",
       "      <td>11036</td>\n",
       "      <td>10</td>\n",
       "      <td>0.031161</td>\n",
       "    </tr>\n",
       "  </tbody>\n",
       "</table>\n",
       "</div>"
      ],
      "text/plain": [
       "       frequency  Rank  Constant c\n",
       "words                             \n",
       "ነው         38534     1    0.010880\n",
       "ላይ         20484     2    0.011568\n",
       "ወደ         19466     3    0.016489\n",
       "ነበር        15752     4    0.017791\n",
       "ጊዜ         14461     5    0.020416\n",
       "ግን         13221     6    0.022398\n",
       "ነገር        12456     7    0.024619\n",
       "ውስጥ        12289     8    0.027759\n",
       "ሁሉ         11870     9    0.030164\n",
       "እንደ        11036    10    0.031161"
      ]
     },
     "execution_count": 21,
     "metadata": {},
     "output_type": "execute_result"
    }
   ],
   "source": [
    "df.head(10)"
   ]
  },
  {
   "cell_type": "markdown",
   "metadata": {},
   "source": [
    "## Saving the index files to csv\n",
    "* Why we chose these specific numbers could be illustrated using `Statistical analysis.ipynb`\n"
   ]
  },
  {
   "cell_type": "code",
   "execution_count": 32,
   "metadata": {},
   "outputs": [],
   "source": [
    "index = df[15:9000]"
   ]
  },
  {
   "cell_type": "markdown",
   "metadata": {},
   "source": [
    "## The top 5 of words of the index terms"
   ]
  },
  {
   "cell_type": "code",
   "execution_count": 33,
   "metadata": {},
   "outputs": [
    {
     "data": {
      "text/html": [
       "<div>\n",
       "<style scoped>\n",
       "    .dataframe tbody tr th:only-of-type {\n",
       "        vertical-align: middle;\n",
       "    }\n",
       "\n",
       "    .dataframe tbody tr th {\n",
       "        vertical-align: top;\n",
       "    }\n",
       "\n",
       "    .dataframe thead th {\n",
       "        text-align: right;\n",
       "    }\n",
       "</style>\n",
       "<table border=\"1\" class=\"dataframe\">\n",
       "  <thead>\n",
       "    <tr style=\"text-align: right;\">\n",
       "      <th></th>\n",
       "      <th>frequency</th>\n",
       "      <th>Rank</th>\n",
       "      <th>Constant c</th>\n",
       "    </tr>\n",
       "    <tr>\n",
       "      <th>words</th>\n",
       "      <th></th>\n",
       "      <th></th>\n",
       "      <th></th>\n",
       "    </tr>\n",
       "  </thead>\n",
       "  <tbody>\n",
       "    <tr>\n",
       "      <th>ስለ</th>\n",
       "      <td>7076</td>\n",
       "      <td>16</td>\n",
       "      <td>0.031967</td>\n",
       "    </tr>\n",
       "    <tr>\n",
       "      <th>በኋላ</th>\n",
       "      <td>7066</td>\n",
       "      <td>17</td>\n",
       "      <td>0.033917</td>\n",
       "    </tr>\n",
       "    <tr>\n",
       "      <th>ወይም</th>\n",
       "      <td>7000</td>\n",
       "      <td>18</td>\n",
       "      <td>0.035577</td>\n",
       "    </tr>\n",
       "    <tr>\n",
       "      <th>ይህ</th>\n",
       "      <td>6711</td>\n",
       "      <td>19</td>\n",
       "      <td>0.036003</td>\n",
       "    </tr>\n",
       "    <tr>\n",
       "      <th>እግዚአብሔር</th>\n",
       "      <td>6274</td>\n",
       "      <td>20</td>\n",
       "      <td>0.035430</td>\n",
       "    </tr>\n",
       "  </tbody>\n",
       "</table>\n",
       "</div>"
      ],
      "text/plain": [
       "         frequency  Rank  Constant c\n",
       "words                               \n",
       "ስለ            7076    16    0.031967\n",
       "በኋላ           7066    17    0.033917\n",
       "ወይም           7000    18    0.035577\n",
       "ይህ            6711    19    0.036003\n",
       "እግዚአብሔር       6274    20    0.035430"
      ]
     },
     "execution_count": 33,
     "metadata": {},
     "output_type": "execute_result"
    }
   ],
   "source": [
    "index.head()"
   ]
  },
  {
   "cell_type": "code",
   "execution_count": 25,
   "metadata": {},
   "outputs": [],
   "source": [
    "df.to_csv('index.csv')"
   ]
  }
 ],
 "metadata": {
  "kernelspec": {
   "display_name": "base",
   "language": "python",
   "name": "python3"
  },
  "language_info": {
   "codemirror_mode": {
    "name": "ipython",
    "version": 3
   },
   "file_extension": ".py",
   "mimetype": "text/x-python",
   "name": "python",
   "nbconvert_exporter": "python",
   "pygments_lexer": "ipython3",
   "version": "3.11.5"
  }
 },
 "nbformat": 4,
 "nbformat_minor": 2
}
